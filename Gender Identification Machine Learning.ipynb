{
 "cells": [
  {
   "cell_type": "markdown",
   "metadata": {
    "slideshow": {
     "slide_type": "-"
    }
   },
   "source": [
    "<center> <h1> Machine Learning Assignment</h1> </center>\n",
    "<center> <h1> Gender Prediction using Scikit-Learn </h1> </center>\n",
    "<center> <h1> (Step-wise Tutorial)</h1> </center>\n",
    "<br><br><br>\n"
   ]
  },
  {
   "cell_type": "markdown",
   "metadata": {},
   "source": [
    "\n",
    "<b> - Input:</b> Set of Attributes (Height, Weight, Hair Length, Beard, Scarf))<br><br>\n",
    "<b> - Output:</b> Gender (Male/Female)<br><br>\n",
    "<b> - Goal:</b> Learn from Input to predict Output<br><br>\n",
    "    \n",
    "<h3> Three Phases of Machine Learning: </h3><br><br>\n",
    "<b>1. Training Phase </b>– Learn from Training Dataset.<br><br>\n",
    "<b>2. Testing/Validation/Evaluation Phase</b> – Evaluate how well the algorithm learned.<br><br>\n",
    "<b>3. Application Phase</b>– Use your learned/trained models in real world application.<br><br>\n"
   ]
  },
  {
   "cell_type": "markdown",
   "metadata": {},
   "source": [
    "<center><h1> Table of Contents </h1></center>\n",
    "<h2>PHASE 1 & 2: TRAINING AND TESTING </h2>\n",
    "\n",
    "**Step 1:** Import Libraries<br><br>\n",
    "**Step 2:** Read, Understand and Pre-process Train/Test Data<br><br>\n",
    "**Step 2.1:** Read Data<br><br>\n",
    "**Step 2.2:** Understand Data<br><br>\n",
    "**Step 2.3:** Pre-process Data<br><br>\n",
    "**Step 3:** Label Encoding for Train/Test Data<br><br>\n",
    "**Step 4:** Feature Extraction – Changing Representation of features “from String to Feature-Vector”<br><br>\n",
    "**Step 5:** Train Machine Learning Algorithms using Training Data<br><br>\n",
    "**Step 6:** Evaluate Machine Learning Algorithms using Test Data<br><br>\n",
    "**Step 7:** Selection of Best Model<br><br><br><br>\n",
    "\n",
    "\n",
    "<h2> PHASE 3: APPLICATION PHASE</h2><br>\n",
    "**Step 8:** Application Phase<br><br>\n",
    "**Step 8.1:** Combine Dataset (Train + Test )¶<br><br>\n",
    "**Step 8.2:** Train Best Model (see Step 7) on all data(Train+Test)<br><br>\n",
    "**Step 8.3:** Save the Trained Model in Pickle File<br><br>\n",
    "**Step 9:** Make predictions on unseen/new data<br><br>\n",
    "**Step 9.1:** Load the Trained Model (saved in Step 8.3)<br><br>\n",
    "**Step 9.2:** Take Input from User<br><br>\n",
    "**Step 9.3:** Convert User Input into Feature Vector (Same as Feature Vector of Trained Model)<br><br>\n",
    "**Step 9.4:** Apply Trained Model on Feature Vector of Unseen Dataset and Output Prediction (Male/Female) to User\n"
   ]
  },
  {
   "cell_type": "markdown",
   "metadata": {},
   "source": [
    "# Step 1: Import Libraries"
   ]
  },
  {
   "cell_type": "code",
   "execution_count": 1,
   "metadata": {},
   "outputs": [],
   "source": [
    "import re\n",
    "import scipy\n",
    "import string\n",
    "import pickle\n",
    "import warnings\n",
    "import numpy as np\n",
    "import pandas as pd\n",
    "import matplotlib.pyplot as plt\n",
    "\n",
    "from sklearn.preprocessing import LabelEncoder            \n",
    "from sklearn.svm import LinearSVC             \n",
    "from sklearn.naive_bayes import BernoulliNB\n",
    "from sklearn.ensemble import RandomForestClassifier          \n",
    "from sklearn.linear_model import LogisticRegression\n",
    "from sklearn.metrics import accuracy_score    \n",
    "\n",
    "from astropy.table import Table, Column \n"
   ]
  },
  {
   "cell_type": "markdown",
   "metadata": {},
   "source": [
    "# Step 2: Read, Understand & Pre-process Train/Test Data"
   ]
  },
  {
   "cell_type": "code",
   "execution_count": 2,
   "metadata": {},
   "outputs": [
    {
     "name": "stdout",
     "output_type": "stream",
     "text": [
      "Train Dataset:\n",
      "==============\n",
      "\n",
      "     height  weight    hair beard scarf  gender\n",
      "0  180.3000     196    Bald   Yes    No    Male\n",
      "1  170.0000     120    Long    No    No  Female\n",
      "2  178.5000     200   Short    No    No    Male\n",
      "3  163.4000     110  Medium    No   Yes  Female\n",
      "4  175.2222     220   Short   Yes    No    Male\n",
      "5  165.0000     150  Medium    No   Yes  Female\n",
      "\n",
      "\n",
      "\n",
      "Attributes Names in Train Dataset:\n",
      "==================================\n",
      "\n",
      "Index(['height', 'weight', 'hair', 'beard', 'scarf', 'gender'], dtype='object')\n",
      "\n",
      "\n",
      "\n",
      "Number of instances in Train Dataset:\n",
      "=====================================\n",
      "\n",
      "Train Data instances:  6\n"
     ]
    }
   ],
   "source": [
    "train_dataset=pd.read_csv('train.csv')\n",
    "test_dataset=pd.read_csv('test.csv')\n",
    "a=\"Train Dataset:\"\n",
    "print(a)\n",
    "print('='*len(a)+\"\\n\")\n",
    "print(train_dataset)\n",
    "print(\"\\n\\n\")\n",
    "b=\"Attributes Names in Train Dataset:\"\n",
    "print(b)\n",
    "print('='*len(b)+\"\\n\")\n",
    "print(train_dataset.columns)\n",
    "print(\"\\n\\n\")\n",
    "c=\"Number of instances in Train Dataset:\"\n",
    "print(c)\n",
    "print('='*len(c)+\"\\n\")\n",
    "print(\"Train Data instances: \",train_dataset.shape[0])"
   ]
  },
  {
   "cell_type": "code",
   "execution_count": 3,
   "metadata": {},
   "outputs": [
    {
     "name": "stdout",
     "output_type": "stream",
     "text": [
      "\n",
      "\n",
      "\n",
      "Test Dataset:\n",
      "============\n",
      "   height  weight    hair beard scarf  gender\n",
      "0   179.1     185    Long   Yes    No    Male\n",
      "1   160.5     130   Short    No    No  Female\n",
      "2   177.8     160    Bald    No    No    Male\n",
      "3   161.1     100  Medium    No    No  Female\n",
      "\n",
      "\n",
      "\n",
      "Attributes Names in Test Dataset :\n",
      "=================================\n",
      "\n",
      "\n",
      "Index(['height', 'weight', 'hair', 'beard', 'scarf', 'gender'], dtype='object')\n",
      "\n",
      "\n",
      "\n",
      "Number of instances in Test Dataset:\n",
      "===================================\n",
      "Test Data instances:  4\n"
     ]
    }
   ],
   "source": [
    "print(\"\\n\\n\")\n",
    "a=\"Test Dataset:\"\n",
    "print(a)\n",
    "print('='*(len(a)-1))\n",
    "print(test_dataset)\n",
    "print(\"\\n\\n\")\n",
    "b=\"Attributes Names in Test Dataset :\"\n",
    "print(b)\n",
    "print('='*(len(b)-1))\n",
    "print(\"\\n\")\n",
    "print(test_dataset.columns)\n",
    "print(\"\\n\\n\")\n",
    "c=\"Number of instances in Test Dataset:\"\n",
    "print(c)\n",
    "print('='*(len(c)-1))\n",
    "print(\"Test Data instances: \",test_dataset.shape[0])"
   ]
  },
  {
   "cell_type": "code",
   "execution_count": 4,
   "metadata": {},
   "outputs": [
    {
     "name": "stdout",
     "output_type": "stream",
     "text": [
      "Train male instances : 3\n",
      "========================\n",
      "     height  weight   hair beard scarf gender\n",
      "0  180.3000     196   Bald   Yes    No   Male\n",
      "2  178.5000     200  Short    No    No   Male\n",
      "4  175.2222     220  Short   Yes    No   Male\n",
      "\n",
      "\n",
      "\n",
      "Train instances having label 'Female': 3\n",
      "========================================\n",
      "\n",
      "   height  weight    hair beard scarf  gender\n",
      "1   170.0     120    Long    No    No  Female\n",
      "3   163.4     110  Medium    No   Yes  Female\n",
      "5   165.0     150  Medium    No   Yes  Female\n"
     ]
    }
   ],
   "source": [
    "data=train_dataset[train_dataset['gender']=='Male']\n",
    "a=\"Train male instances : \"+str(data.shape[0])\n",
    "print(a)\n",
    "print('='*len(a))\n",
    "print(data)\n",
    "print(\"\\n\\n\")\n",
    "data1=train_dataset[train_dataset['gender']=='Female']\n",
    "b=\"Train instances having label 'Female': \"+str(data1.shape[0])\n",
    "print(b)\n",
    "print('='*len(b))\n",
    "print(\"\")\n",
    "print(data1)"
   ]
  },
  {
   "cell_type": "code",
   "execution_count": 5,
   "metadata": {},
   "outputs": [
    {
     "name": "stdout",
     "output_type": "stream",
     "text": [
      "Test male instances : 2\n",
      "=======================\n",
      "   height  weight  hair beard scarf gender\n",
      "0   179.1     185  Long   Yes    No   Male\n",
      "2   177.8     160  Bald    No    No   Male\n",
      "\n",
      "\n",
      "\n",
      "Test instances having label 'Female': 2\n",
      "=======================================\n",
      "\n",
      "   height  weight    hair beard scarf  gender\n",
      "1   160.5     130   Short    No    No  Female\n",
      "3   161.1     100  Medium    No    No  Female\n"
     ]
    }
   ],
   "source": [
    "data=test_dataset[test_dataset['gender']=='Male']\n",
    "a=\"Test male instances : \"+str(data.shape[0])\n",
    "print(a)\n",
    "print('='*len(a))\n",
    "print(data)\n",
    "print(\"\\n\\n\")\n",
    "data1=test_dataset[test_dataset['gender']=='Female']\n",
    "b=\"Test instances having label 'Female': \"+str(data1.shape[0])\n",
    "print(b)\n",
    "print('='*len(b))\n",
    "print(\"\")\n",
    "print(data1)"
   ]
  },
  {
   "cell_type": "markdown",
   "metadata": {},
   "source": [
    "### Understanding Data via Graphs"
   ]
  },
  {
   "cell_type": "code",
   "execution_count": 6,
   "metadata": {},
   "outputs": [
    {
     "name": "stdout",
     "output_type": "stream",
     "text": [
      "Total number of 'Males' and 'Females' in Train Dataset:\n",
      "=======================================================\n"
     ]
    },
    {
     "data": {
      "image/png": "[encoded data removed]",
      "text/plain": [
       "<Figure size 432x288 with 1 Axes>"
      ]
     },
     "metadata": {
      "needs_background": "light"
     },
     "output_type": "display_data"
    }
   ],
   "source": [
    "\n",
    "a=\"Total number of 'Males' and 'Females' in Train Dataset:\"\n",
    "print(a)\n",
    "print('='*len(a))\n",
    "graph=train_dataset['gender'].value_counts().plot.bar(stacked=True, color=['b','orange'],legend=True)\n"
   ]
  },
  {
   "cell_type": "code",
   "execution_count": 7,
   "metadata": {},
   "outputs": [
    {
     "name": "stdout",
     "output_type": "stream",
     "text": [
      "Total number of 'Males' and 'Females' in Test Dataset:\n",
      "======================================================\n"
     ]
    },
    {
     "data": {
      "text/plain": [
       "<matplotlib.axes._subplots.AxesSubplot at 0x2835a5d9388>"
      ]
     },
     "execution_count": 7,
     "metadata": {},
     "output_type": "execute_result"
    },
    {
     "data": {
      "image/png": "[encoded data removed]",
      "text/plain": [
       "<Figure size 432x288 with 1 Axes>"
      ]
     },
     "metadata": {
      "needs_background": "light"
     },
     "output_type": "display_data"
    }
   ],
   "source": [
    "a=\"Total number of 'Males' and 'Females' in Test Dataset:\"\n",
    "print(a)\n",
    "print('='*len(a))\n",
    "graph=test_dataset['gender'].value_counts().plot.bar(color=['b','orange'],legend=True)\n",
    "graph"
   ]
  },
  {
   "cell_type": "code",
   "execution_count": 8,
   "metadata": {},
   "outputs": [
    {
     "name": "stdout",
     "output_type": "stream",
     "text": [
      "Number of people having various hair length in Train dataset:\n",
      "============================================================\n"
     ]
    },
    {
     "data": {
      "text/plain": [
       "<matplotlib.axes._subplots.AxesSubplot at 0x2835a657b48>"
      ]
     },
     "execution_count": 8,
     "metadata": {},
     "output_type": "execute_result"
    },
    {
     "data": {
      "image/png": "[encoded data removed]",
      "text/plain": [
       "<Figure size 432x288 with 1 Axes>"
      ]
     },
     "metadata": {
      "needs_background": "light"
     },
     "output_type": "display_data"
    }
   ],
   "source": [
    "a=\"Number of people having various hair length in Train dataset:\"\n",
    "print(a)\n",
    "print('='*(len(a)-1))\n",
    "train_dataset['hair'].value_counts().plot.bar(color='r')"
   ]
  },
  {
   "cell_type": "code",
   "execution_count": 9,
   "metadata": {},
   "outputs": [
    {
     "name": "stdout",
     "output_type": "stream",
     "text": [
      "Number of people having various hair length in Test dataset:\n",
      "===========================================================\n"
     ]
    },
    {
     "data": {
      "text/plain": [
       "<matplotlib.axes._subplots.AxesSubplot at 0x2835a501688>"
      ]
     },
     "execution_count": 9,
     "metadata": {},
     "output_type": "execute_result"
    },
    {
     "data": {
      "image/png": "[encoded data removed]",
      "text/plain": [
       "<Figure size 432x288 with 1 Axes>"
      ]
     },
     "metadata": {
      "needs_background": "light"
     },
     "output_type": "display_data"
    }
   ],
   "source": [
    "a=\"Number of people having various hair length in Test dataset:\"\n",
    "print(a)\n",
    "print('='*(len(a)-1))\n",
    "test_dataset['hair'].value_counts().plot.bar(color='b')"
   ]
  },
  {
   "cell_type": "code",
   "execution_count": 10,
   "metadata": {},
   "outputs": [
    {
     "name": "stdout",
     "output_type": "stream",
     "text": [
      "Number of people have/haven't beard in Train dataset:\n",
      "====================================================\n"
     ]
    },
    {
     "data": {
      "text/plain": [
       "<matplotlib.axes._subplots.AxesSubplot at 0x2835a6bf1c8>"
      ]
     },
     "execution_count": 10,
     "metadata": {},
     "output_type": "execute_result"
    },
    {
     "data": {
      "image/png": "[encoded data removed]",
      "text/plain": [
       "<Figure size 432x288 with 1 Axes>"
      ]
     },
     "metadata": {
      "needs_background": "light"
     },
     "output_type": "display_data"
    }
   ],
   "source": [
    "a=\"Number of people have/haven't beard in Train dataset:\"\n",
    "print(a)\n",
    "print('='*(len(a)-1))\n",
    "train_dataset['beard'].value_counts().plot.bar(color='k')"
   ]
  },
  {
   "cell_type": "code",
   "execution_count": 11,
   "metadata": {},
   "outputs": [
    {
     "name": "stdout",
     "output_type": "stream",
     "text": [
      "Number of people have/haven't beard in Test dataset:\n",
      "===================================================\n"
     ]
    },
    {
     "data": {
      "text/plain": [
       "<matplotlib.axes._subplots.AxesSubplot at 0x2835a71a348>"
      ]
     },
     "execution_count": 11,
     "metadata": {},
     "output_type": "execute_result"
    },
    {
     "data": {
      "image/png": "[encoded data removed]",
      "text/plain": [
       "<Figure size 432x288 with 1 Axes>"
      ]
     },
     "metadata": {
      "needs_background": "light"
     },
     "output_type": "display_data"
    }
   ],
   "source": [
    "a=\"Number of people have/haven't beard in Test dataset:\"\n",
    "print(a)\n",
    "print('='*(len(a)-1))\n",
    "test_dataset['beard'].value_counts().plot.bar(color='y')"
   ]
  },
  {
   "cell_type": "markdown",
   "metadata": {},
   "source": [
    "### Step 2.3: Pre-Process Data"
   ]
  },
  {
   "cell_type": "code",
   "execution_count": 12,
   "metadata": {
    "scrolled": true
   },
   "outputs": [
    {
     "name": "stdout",
     "output_type": "stream",
     "text": [
      "Train data before pre-processing:\n",
      "===========================================\n",
      "\n",
      "\n",
      "     height  weight    hair beard scarf  gender\n",
      "0  180.3000     196    Bald   Yes    No    Male\n",
      "1  170.0000     120    Long    No    No  Female\n",
      "2  178.5000     200   Short    No    No    Male\n",
      "3  163.4000     110  Medium    No   Yes  Female\n",
      "4  175.2222     220   Short   Yes    No    Male\n",
      "5  165.0000     150  Medium    No   Yes  Female\n",
      "\n",
      "\n",
      "Train data after pre-processing:\n",
      "===========================================\n",
      "\n",
      "\n",
      "   height  weight    hair beard scarf  gender\n",
      "0  180.30     196    Bald   Yes    No    Male\n",
      "1  170.00     120    Long    No    No  Female\n",
      "2  178.50     200   Short    No    No    Male\n",
      "3  163.40     110  Medium    No   Yes  Female\n",
      "4  175.22     220   Short   Yes    No    Male\n",
      "5  165.00     150  Medium    No   Yes  Female\n"
     ]
    }
   ],
   "source": [
    "a=\"Train data before pre-processing:\"\n",
    "b='='*(len(a)+10)\n",
    "print(a)\n",
    "print(b)\n",
    "print('\\n')\n",
    "print(train_dataset)\n",
    "c=\"Train data after pre-processing:\"\n",
    "print('\\n')\n",
    "print(c)\n",
    "print(b)\n",
    "print('\\n')\n",
    "train_dataset_preprocessed=train_dataset\n",
    "train_dataset_preprocessed['height']=round(train_dataset['height'],2)\n",
    "print(train_dataset_preprocessed)"
   ]
  },
  {
   "cell_type": "markdown",
   "metadata": {},
   "source": [
    "# Step 3: Label Encoding for Test/Train Data"
   ]
  },
  {
   "cell_type": "markdown",
   "metadata": {},
   "source": [
    "#### Label encoding train dataset"
   ]
  },
  {
   "cell_type": "code",
   "execution_count": 13,
   "metadata": {},
   "outputs": [
    {
     "name": "stdout",
     "output_type": "stream",
     "text": [
      "Gender attribute Label Encoding in Train dataset:\n",
      "=================================================\n",
      "\n",
      "\n",
      "   gender  encoded_gender\n",
      "0    Male               1\n",
      "1  Female               0\n",
      "2    Male               1\n",
      "3  Female               0\n",
      "4    Male               1\n",
      "5  Female               0\n",
      "\n",
      "\n",
      "Scarf attribute Label Encoding in Train dataset:\n",
      "================================================\n",
      "     hair  encoded_hair\n",
      "0    Bald             0\n",
      "1    Long             1\n",
      "2   Short             3\n",
      "3  Medium             2\n",
      "4   Short             3\n",
      "5  Medium             2\n",
      "\n",
      "\n",
      "Beard attribute Label Encoding in Train dataset:\n",
      "================================================\n",
      "\n",
      "\n",
      "  beard  encoded_beard\n",
      "0   Yes              1\n",
      "1    No              0\n",
      "2    No              0\n",
      "3    No              0\n",
      "4   Yes              1\n",
      "5    No              0\n",
      "\n",
      "\n",
      "Hair attribute Label Encoding in Train dataset:\n",
      "===============================================\n",
      "\n",
      "\n",
      "     hair  encoded_hair\n",
      "0    Bald             0\n",
      "1    Long             1\n",
      "2   Short             3\n",
      "3  Medium             2\n",
      "4   Short             3\n",
      "5  Medium             2\n"
     ]
    }
   ],
   "source": [
    "from sklearn.preprocessing import LabelEncoder\n",
    "a=\"Gender attribute Label Encoding in Train dataset:\"\n",
    "b='='*len(a)\n",
    "print(a)\n",
    "print(b)\n",
    "print('\\n')\n",
    "train_encoded=train_dataset\n",
    "gender_encoder=LabelEncoder()\n",
    "gender_encoder.fit(train_encoded['gender'])\n",
    "train_encoded['encoded_gender']=gender_encoder.transform(train_encoded['gender'])\n",
    "scarf_encoder=LabelEncoder()\n",
    "scarf_encoder.fit(train_encoded['scarf'])\n",
    "train_encoded['encoded_scarf']=scarf_encoder.transform(train_encoded['scarf'])\n",
    "beard_encoded=LabelEncoder()\n",
    "beard_encoded.fit(train_encoded['beard'])\n",
    "train_encoded['encoded_beard']=beard_encoded.transform(train_encoded['beard'])\n",
    "hair_encoded=LabelEncoder()\n",
    "hair_encoded.fit(train_encoded['hair'])\n",
    "train_encoded['encoded_hair']=hair_encoded.transform(train_encoded['hair'])\n",
    "print(train_encoded[['gender','encoded_gender']])\n",
    "print('\\n')\n",
    "b=\"Scarf attribute Label Encoding in Train dataset:\"\n",
    "c='='*len(b)\n",
    "print(b)\n",
    "print(c)\n",
    "print(train_encoded[['hair','encoded_hair']])\n",
    "print('\\n')\n",
    "\n",
    "b=\"Beard attribute Label Encoding in Train dataset:\"\n",
    "print(b)\n",
    "c='='*len(b)\n",
    "print(c)\n",
    "print('\\n')\n",
    "print(train_encoded[['beard','encoded_beard']])\n",
    "print('\\n')\n",
    "\n",
    "b=\"Hair attribute Label Encoding in Train dataset:\"\n",
    "c='='*len(b)\n",
    "print(b)\n",
    "print(c)\n",
    "print('\\n')\n",
    "print(train_encoded[['hair','encoded_hair']])\n"
   ]
  },
  {
   "cell_type": "code",
   "execution_count": 14,
   "metadata": {},
   "outputs": [
    {
     "name": "stdout",
     "output_type": "stream",
     "text": [
      "Original Train Data:\n",
      "==================================================\n",
      "\n",
      "\n",
      "   height  weight    hair beard scarf  gender  encoded_gender  encoded_scarf  \\\n",
      "0  180.30     196    Bald   Yes    No    Male               1              0   \n",
      "1  170.00     120    Long    No    No  Female               0              0   \n",
      "2  178.50     200   Short    No    No    Male               1              0   \n",
      "3  163.40     110  Medium    No   Yes  Female               0              1   \n",
      "4  175.22     220   Short   Yes    No    Male               1              0   \n",
      "5  165.00     150  Medium    No   Yes  Female               0              1   \n",
      "\n",
      "   encoded_beard  encoded_hair  \n",
      "0              1             0  \n",
      "1              0             1  \n",
      "2              0             3  \n",
      "3              0             2  \n",
      "4              1             3  \n",
      "5              0             2  \n",
      "\n",
      "\n",
      "Train Data after Label Encoding:\n",
      "==============================================================\n",
      "\n",
      "\n",
      "   height  weight  hair  beard  scarf  gender\n",
      "0  180.30     196     0      1      0       1\n",
      "1  170.00     120     1      0      0       0\n",
      "2  178.50     200     3      0      0       1\n",
      "3  163.40     110     2      0      1       0\n",
      "4  175.22     220     3      1      0       1\n",
      "5  165.00     150     2      0      1       0\n"
     ]
    }
   ],
   "source": [
    "a=\"Original Train Data:\"\n",
    "print(a)\n",
    "print('='*(len(a)+30))\n",
    "print('\\n')\n",
    "print(train_dataset)\n",
    "\n",
    "print('\\n')\n",
    "b=\"Train Data after Label Encoding:\"\n",
    "print(b)\n",
    "print('='*(len(b)+30))\n",
    "print('\\n')\n",
    "train_dataset_preprocessed=train_encoded.copy()\n",
    "train_dataset_preprocessed['gender']=train_dataset_preprocessed['encoded_gender']\n",
    "train_dataset_preprocessed['hair']=train_dataset_preprocessed['encoded_hair']\n",
    "train_dataset_preprocessed['beard']=train_dataset_preprocessed['encoded_beard']\n",
    "train_dataset_preprocessed['scarf']=train_dataset_preprocessed['encoded_scarf']\n",
    "delcols=['encoded_gender','encoded_hair','encoded_beard','encoded_scarf']\n",
    "train_dataset_preprocessed=train_dataset_preprocessed.drop(delcols,axis=1)\n",
    "print(train_dataset_preprocessed)"
   ]
  },
  {
   "cell_type": "markdown",
   "metadata": {},
   "source": [
    "#### Label encoding test dataset"
   ]
  },
  {
   "cell_type": "code",
   "execution_count": 15,
   "metadata": {},
   "outputs": [
    {
     "name": "stdout",
     "output_type": "stream",
     "text": [
      "Original Test Data:\n",
      "=================================================\n",
      "\n",
      "\n",
      "   height  weight    hair beard scarf  gender\n",
      "0   179.1     185    Long   Yes    No    Male\n",
      "1   160.5     130   Short    No    No  Female\n",
      "2   177.8     160    Bald    No    No    Male\n",
      "3   161.1     100  Medium    No    No  Female\n",
      "\n",
      "\n",
      "Test Data after Label Encoding:\n",
      "=============================================================\n",
      "\n",
      "\n",
      "   height  weight  hair  beard  scarf  gender\n",
      "0   179.1     185     1      1      0       1\n",
      "1   160.5     130     3      0      0       0\n",
      "2   177.8     160     0      0      0       1\n",
      "3   161.1     100     2      0      0       0\n"
     ]
    }
   ],
   "source": [
    "a=\"Original Test Data:\"\n",
    "print(a)\n",
    "print('='*(len(a)+30))\n",
    "print('\\n')\n",
    "print(test_dataset)\n",
    "print('\\n')\n",
    "a=\"Test Data after Label Encoding:\"\n",
    "print(a)\n",
    "print('='*(len(a)+30))\n",
    "print('\\n')\n",
    "test_dataset_preprocessed=test_dataset.copy()\n",
    "test_dataset_preprocessed['gender']=gender_encoder.transform(test_dataset['gender'])\n",
    "test_dataset_preprocessed['hair']=hair_encoded.transform(test_dataset['hair'])\n",
    "test_dataset_preprocessed['beard']=beard_encoded.transform(test_dataset['beard'])\n",
    "test_dataset_preprocessed['scarf']=scarf_encoder.transform(test_dataset['scarf'])\n",
    "print(test_dataset_preprocessed)"
   ]
  },
  {
   "cell_type": "markdown",
   "metadata": {},
   "source": [
    "# Step 4: Feature Extraction – Changing Representation of Data “from String to Vector”"
   ]
  },
  {
   "cell_type": "code",
   "execution_count": 16,
   "metadata": {},
   "outputs": [],
   "source": [
    "from sklearn.model_selection import train_test_split\n",
    "inputs=['height','weight','hair','beard','scarf']\n",
    "output=['gender']\n",
    "X=train_dataset_preprocessed[inputs]\n",
    "#print(X)\n",
    "y=train_dataset_preprocessed[output]\n",
    "#print(y)\n",
    "X_train,X_test,y_train,y_test=train_test_split(X,y,random_state=1)\n"
   ]
  },
  {
   "cell_type": "markdown",
   "metadata": {},
   "source": [
    "# Step 5: Train Machine Learning Algorithms using Training Data"
   ]
  },
  {
   "cell_type": "code",
   "execution_count": 17,
   "metadata": {},
   "outputs": [
    {
     "name": "stdout",
     "output_type": "stream",
     "text": [
      "Parameters and their values:\n",
      "================================================\n",
      "\n",
      "\n",
      "LogisticRegression(C=1.0, class_weight=None, dual=False, fit_intercept=True,\n",
      "                   intercept_scaling=1, l1_ratio=None, max_iter=100,\n",
      "                   multi_class='auto', n_jobs=None, penalty='l2',\n",
      "                   random_state=None, solver='lbfgs', tol=0.0001, verbose=0,\n",
      "                   warm_start=False)\n"
     ]
    },
    {
     "name": "stderr",
     "output_type": "stream",
     "text": [
      "C:\\ProgramData\\Anaconda3\\lib\\site-packages\\sklearn\\utils\\validation.py:760: DataConversionWarning: A column-vector y was passed when a 1d array was expected. Please change the shape of y to (n_samples, ), for example using ravel().\n",
      "  y = column_or_1d(y, warn=True)\n"
     ]
    }
   ],
   "source": [
    "from sklearn.linear_model import LogisticRegression\n",
    "logistic_regression=LogisticRegression()\n",
    "# Fitting train data in linear regression model.\n",
    "logistic_regression.fit(X_train,y_train)\n",
    "\n",
    "test_data_predict=test_dataset_preprocessed[inputs].copy()\n",
    "y_test_data_predictions=test_dataset_preprocessed[output]\n",
    "# Predicting values\n",
    "y_predictions=logistic_regression.predict((test_data_predict))\n",
    "a=\"Parameters and their values:\"\n",
    "b='='*(len(a)+20)\n",
    "print(a)\n",
    "print(b)\n",
    "print('\\n')\n",
    "\n",
    "print(logistic_regression)"
   ]
  },
  {
   "cell_type": "code",
   "execution_count": 18,
   "metadata": {},
   "outputs": [
    {
     "name": "stderr",
     "output_type": "stream",
     "text": [
      "C:\\ProgramData\\Anaconda3\\lib\\site-packages\\ipykernel_launcher.py:4: DataConversionWarning: A column-vector y was passed when a 1d array was expected. Please change the shape of y to (n_samples,), for example using ravel().\n",
      "  after removing the cwd from sys.path.\n"
     ]
    },
    {
     "name": "stdout",
     "output_type": "stream",
     "text": [
      "Parameters and their values:\n",
      "================================================\n",
      "\n",
      "\n",
      "RandomForestClassifier(bootstrap=True, ccp_alpha=0.0, class_weight=None,\n",
      "                       criterion='gini', max_depth=None, max_features='auto',\n",
      "                       max_leaf_nodes=None, max_samples=None,\n",
      "                       min_impurity_decrease=0.0, min_impurity_split=None,\n",
      "                       min_samples_leaf=1, min_samples_split=2,\n",
      "                       min_weight_fraction_leaf=0.0, n_estimators=100,\n",
      "                       n_jobs=None, oob_score=False, random_state=None,\n",
      "                       verbose=0, warm_start=False)\n"
     ]
    }
   ],
   "source": [
    "from sklearn.ensemble import RandomForestClassifier\n",
    "rand_forest_classifier=RandomForestClassifier()\n",
    "# Fitting train data in Random Forest.\n",
    "rand_forest_classifier.fit(X_train,y_train)\n",
    "test_data_predict=test_dataset_preprocessed[inputs].copy()\n",
    "y_test_data_predictions=test_dataset_preprocessed[output]\n",
    "# Predicting values\n",
    "y_predictions_randmforest=rand_forest_classifier.predict(test_data_predict)\n",
    "#print(y_predictions_randmforest)\n",
    "a=\"Parameters and their values:\"\n",
    "b='='*(len(a)+20)\n",
    "print(a)\n",
    "print(b)\n",
    "print('\\n')\n",
    "print(rand_forest_classifier)"
   ]
  },
  {
   "cell_type": "code",
   "execution_count": 19,
   "metadata": {},
   "outputs": [
    {
     "name": "stdout",
     "output_type": "stream",
     "text": [
      "Parameters and their values:\n",
      "================================================\n",
      "\n",
      "\n",
      "LinearSVC(C=1.0, class_weight=None, dual=True, fit_intercept=True,\n",
      "          intercept_scaling=1, loss='squared_hinge', max_iter=1000,\n",
      "          multi_class='ovr', penalty='l2', random_state=None, tol=0.0001,\n",
      "          verbose=0)\n"
     ]
    },
    {
     "name": "stderr",
     "output_type": "stream",
     "text": [
      "C:\\ProgramData\\Anaconda3\\lib\\site-packages\\sklearn\\utils\\validation.py:760: DataConversionWarning: A column-vector y was passed when a 1d array was expected. Please change the shape of y to (n_samples, ), for example using ravel().\n",
      "  y = column_or_1d(y, warn=True)\n",
      "C:\\ProgramData\\Anaconda3\\lib\\site-packages\\sklearn\\svm\\_base.py:947: ConvergenceWarning: Liblinear failed to converge, increase the number of iterations.\n",
      "  \"the number of iterations.\", ConvergenceWarning)\n"
     ]
    }
   ],
   "source": [
    "from sklearn.svm import LinearSVC\n",
    "svc=LinearSVC()\n",
    "svc.fit(X_train,y_train)\n",
    "test_data_predict=test_dataset_preprocessed[inputs].copy()\n",
    "y_test_data_predictions=test_dataset_preprocessed[output]\n",
    "y_pred_svc=svc.predict(test_data_predict)\n",
    "a=\"Parameters and their values:\"\n",
    "b='='*(len(a)+20)\n",
    "print(a)\n",
    "print(b)\n",
    "print('\\n')\n",
    "print(svc)"
   ]
  },
  {
   "cell_type": "code",
   "execution_count": 20,
   "metadata": {},
   "outputs": [
    {
     "name": "stdout",
     "output_type": "stream",
     "text": [
      "Parameters and their values:\n",
      "================================================\n",
      "\n",
      "\n",
      "BernoulliNB(alpha=1.0, binarize=0.0, class_prior=None, fit_prior=True)\n"
     ]
    },
    {
     "name": "stderr",
     "output_type": "stream",
     "text": [
      "C:\\ProgramData\\Anaconda3\\lib\\site-packages\\sklearn\\utils\\validation.py:760: DataConversionWarning: A column-vector y was passed when a 1d array was expected. Please change the shape of y to (n_samples, ), for example using ravel().\n",
      "  y = column_or_1d(y, warn=True)\n"
     ]
    }
   ],
   "source": [
    "from sklearn.naive_bayes import BernoulliNB\n",
    "bernoulli_nb=BernoulliNB()\n",
    "test_data_predict=test_dataset_preprocessed[inputs].copy()\n",
    "y_test_data_predictions=test_dataset_preprocessed[output]\n",
    "a=\"Parameters and their values:\"\n",
    "bernoulli_nb.fit(X_train,y_train)\n",
    "y_pred_bernoulli=bernoulli_nb.predict(test_data_predict)\n",
    "b='='*(len(a)+20)\n",
    "print(a)\n",
    "print(b)\n",
    "print('\\n')\n",
    "print(bernoulli_nb)"
   ]
  },
  {
   "cell_type": "markdown",
   "metadata": {},
   "source": [
    "# Step 6: Evaluate Machine Learning Algorithms using Test Data"
   ]
  },
  {
   "cell_type": "code",
   "execution_count": 21,
   "metadata": {},
   "outputs": [
    {
     "name": "stdout",
     "output_type": "stream",
     "text": [
      "Prediction using Logistic Regression:\n",
      "=========================================================\n",
      "\n",
      "\n",
      "   height  weight    hair beard scarf  gender predicted_gender\n",
      "0   179.1     185    Long   Yes    No    Male             Male\n",
      "1   160.5     130   Short    No    No  Female           Female\n",
      "2   177.8     160    Bald    No    No    Male           Female\n",
      "3   161.1     100  Medium    No    No  Female           Female\n",
      "\n",
      "\n",
      "Accuracy score:\n",
      "====================\n",
      "0.75\n"
     ]
    }
   ],
   "source": [
    "from sklearn.linear_model import LogisticRegression\n",
    "from sklearn.metrics import accuracy_score\n",
    "\n",
    "a=\"Prediction using Logistic Regression:\"\n",
    "b='='*(len(a)+20)\n",
    "print(a)\n",
    "print(b)\n",
    "print('\\n')\n",
    "predicted_test_data_regression=test_dataset.copy()\n",
    "predicted_test_data_regression['predicted_gender']=gender_encoder.inverse_transform(np.ravel(y_predictions))\n",
    "print(predicted_test_data_regression)\n",
    "print('\\n')\n",
    "print('Accuracy score:')\n",
    "b='='*(20)\n",
    "print(b)\n",
    "listofmodels=[]\n",
    "dic=[\"Logistic Regression\",accuracy_score(y_test_data_predictions,y_predictions)]\n",
    "listofmodels.append(dic)\n",
    "print(accuracy_score(y_test_data_predictions,y_predictions))"
   ]
  },
  {
   "cell_type": "code",
   "execution_count": 22,
   "metadata": {},
   "outputs": [
    {
     "name": "stdout",
     "output_type": "stream",
     "text": [
      "Prediction using Random Forest Classifier:\n",
      "==============================================================\n",
      "\n",
      "\n",
      "   height  weight    hair beard scarf  gender predicted_gender\n",
      "0   179.1     185    Long   Yes    No    Male             Male\n",
      "1   160.5     130   Short    No    No  Female           Female\n",
      "2   177.8     160    Bald    No    No    Male             Male\n",
      "3   161.1     100  Medium    No    No  Female           Female\n",
      "\n",
      "\n",
      "Accuracy score:\n",
      "====================\n",
      "1.0\n"
     ]
    }
   ],
   "source": [
    "from sklearn.metrics import accuracy_score\n",
    "\n",
    "a=\"Prediction using Random Forest Classifier:\"\n",
    "b='='*(len(a)+20)\n",
    "print(a)\n",
    "print(b)\n",
    "print('\\n')\n",
    "predicted_test_data_randmforest=test_dataset.copy()\n",
    "predicted_test_data_randmforest['predicted_gender']=gender_encoder.inverse_transform(y_predictions_randmforest)\n",
    "print(predicted_test_data_randmforest)\n",
    "print('\\n')\n",
    "print('Accuracy score:')\n",
    "b='='*(20)\n",
    "print(b)\n",
    "dic=[\"Random Forest Classifier\",accuracy_score(y_test_data_predictions,y_predictions_randmforest)]\n",
    "listofmodels.append(dic)\n",
    "print(accuracy_score(y_test_data_predictions,y_predictions_randmforest))"
   ]
  },
  {
   "cell_type": "code",
   "execution_count": 23,
   "metadata": {},
   "outputs": [
    {
     "name": "stdout",
     "output_type": "stream",
     "text": [
      "Prediction using LinearSVC:\n",
      "===============================================\n",
      "\n",
      "\n",
      "   height  weight    hair beard scarf  gender predicted_gender\n",
      "0   179.1     185    Long   Yes    No    Male             Male\n",
      "1   160.5     130   Short    No    No  Female           Female\n",
      "2   177.8     160    Bald    No    No    Male           Female\n",
      "3   161.1     100  Medium    No    No  Female           Female\n",
      "\n",
      "\n",
      "Accuracy score:\n",
      "====================\n",
      "0.75\n"
     ]
    }
   ],
   "source": [
    "\n",
    "a=\"Prediction using LinearSVC:\"\n",
    "b='='*(len(a)+20)\n",
    "print(a)\n",
    "print(b)\n",
    "print('\\n')\n",
    "predicted_test_data_svc=test_dataset.copy()\n",
    "predicted_test_data_svc['predicted_gender']=gender_encoder.inverse_transform(y_pred_svc)\n",
    "print(predicted_test_data_svc)\n",
    "print('\\n')\n",
    "print('Accuracy score:')\n",
    "b='='*(20)\n",
    "print(b)\n",
    "dic=[\"Linear SVC\",accuracy_score(y_test_data_predictions,y_pred_svc)]\n",
    "listofmodels.append(dic)\n",
    "print(accuracy_score(y_test_data_predictions,y_pred_svc))"
   ]
  },
  {
   "cell_type": "code",
   "execution_count": 24,
   "metadata": {},
   "outputs": [
    {
     "name": "stdout",
     "output_type": "stream",
     "text": [
      "Prediction using BernoulliNB:\n",
      "=============================\n",
      "\n",
      "\n",
      "   height  weight    hair beard scarf  gender predicted_gender\n",
      "0   179.1     185    Long   Yes    No    Male             Male\n",
      "1   160.5     130   Short    No    No  Female           Female\n",
      "2   177.8     160    Bald    No    No    Male             Male\n",
      "3   161.1     100  Medium    No    No  Female           Female\n",
      "\n",
      "\n",
      "Accuracy score:\n",
      "====================\n",
      "1.0\n"
     ]
    }
   ],
   "source": [
    "\n",
    "a=\"Prediction using BernoulliNB:\"\n",
    "b='='*(len(a))\n",
    "print(a)\n",
    "print(b)\n",
    "print('\\n')\n",
    "predicted_test_data_bernoulli=test_dataset.copy()\n",
    "predicted_test_data_bernoulli['predicted_gender']=gender_encoder.inverse_transform(y_pred_bernoulli)\n",
    "print(predicted_test_data_bernoulli)\n",
    "print('\\n')\n",
    "print('Accuracy score:')\n",
    "b='='*(20)\n",
    "print(b)\n",
    "dic=[\"BernoulliNB\",accuracy_score(y_test_data_predictions,y_pred_bernoulli)]\n",
    "listofmodels.append(dic)\n",
    "print(accuracy_score(y_test_data_predictions,y_pred_bernoulli))"
   ]
  },
  {
   "cell_type": "markdown",
   "metadata": {},
   "source": [
    "# Step 7: Selection of Best Model"
   ]
  },
  {
   "cell_type": "code",
   "execution_count": 25,
   "metadata": {},
   "outputs": [
    {
     "name": "stdout",
     "output_type": "stream",
     "text": [
      "+--------------------------+----------+\n",
      "|          Model           | Accuracy |\n",
      "+--------------------------+----------+\n",
      "|   Logistic Regression    |   0.75   |\n",
      "| Random Forest Classifier |   1.0    |\n",
      "|        Linear SVC        |   0.75   |\n",
      "|       BernoulliNB        |   1.0    |\n",
      "+--------------------------+----------+\n"
     ]
    }
   ],
   "source": [
    "from prettytable import PrettyTable\n",
    "table = PrettyTable()\n",
    "\n",
    "table.title = 'Results of Models Accuracy'\n",
    "table.field_names = ['Model', 'Accuracy']\n",
    "#print(listofmodels)\n",
    "for i,j in listofmodels:\n",
    "    table.add_row([i,j])\n",
    "#table.add_row(['bla', 3.14])\n",
    "#table.add_row(['baz', 42.0])\n",
    "\n",
    "print(table)"
   ]
  },
  {
   "cell_type": "markdown",
   "metadata": {},
   "source": [
    "# PHASE 3: APPLICATION PHASE"
   ]
  },
  {
   "cell_type": "markdown",
   "metadata": {},
   "source": [
    "# Step 8: Application Phase"
   ]
  },
  {
   "cell_type": "markdown",
   "metadata": {},
   "source": [
    "### Step 8.1: Combine Data (Train+Test)"
   ]
  },
  {
   "cell_type": "code",
   "execution_count": 26,
   "metadata": {},
   "outputs": [
    {
     "name": "stdout",
     "output_type": "stream",
     "text": [
      "Train Features in form of Dataframe:\n",
      "====================================\n",
      "\n",
      "\n",
      "   height  weight  hair  beard  scarf  gender\n",
      "0  180.30     196     0      1      0       1\n",
      "1  170.00     120     1      0      0       0\n",
      "2  178.50     200     3      0      0       1\n",
      "3  163.40     110     2      0      1       0\n",
      "4  175.22     220     3      1      0       1\n",
      "5  165.00     150     2      0      1       0\n"
     ]
    }
   ],
   "source": [
    "a=\"Train Features in form of Dataframe:\"\n",
    "print(a)\n",
    "print('='*len(a))\n",
    "print('\\n')\n",
    "print(train_dataset_preprocessed)"
   ]
  },
  {
   "cell_type": "code",
   "execution_count": 27,
   "metadata": {},
   "outputs": [
    {
     "name": "stdout",
     "output_type": "stream",
     "text": [
      "Test Features in form of Dataframe:\n",
      "===================================\n",
      "\n",
      "\n",
      "   height  weight  hair  beard  scarf  gender\n",
      "0   179.1     185     1      1      0       1\n",
      "1   160.5     130     3      0      0       0\n",
      "2   177.8     160     0      0      0       1\n",
      "3   161.1     100     2      0      0       0\n"
     ]
    }
   ],
   "source": [
    "a=\"Test Features in form of Dataframe:\"\n",
    "print(a)\n",
    "print('='*len(a))\n",
    "print('\\n')\n",
    "print(test_dataset_preprocessed)"
   ]
  },
  {
   "cell_type": "code",
   "execution_count": 28,
   "metadata": {},
   "outputs": [
    {
     "name": "stdout",
     "output_type": "stream",
     "text": [
      "All Train and Test Dataset Features in form of DataFrame:\n",
      "=========================================================\n",
      "\n",
      "\n",
      "   height  weight  hair  beard  scarf  gender\n",
      "0  180.30     196     0      1      0       1\n",
      "1  170.00     120     1      0      0       0\n",
      "2  178.50     200     3      0      0       1\n",
      "3  163.40     110     2      0      1       0\n",
      "4  175.22     220     3      1      0       1\n",
      "5  165.00     150     2      0      1       0\n",
      "6  179.10     185     1      1      0       1\n",
      "7  160.50     130     3      0      0       0\n",
      "8  177.80     160     0      0      0       1\n",
      "9  161.10     100     2      0      0       0\n"
     ]
    }
   ],
   "source": [
    "combine=pd.concat([train_dataset_preprocessed,test_dataset_preprocessed],ignore_index=True)\n",
    "a=\"All Train and Test Dataset Features in form of DataFrame:\"\n",
    "print(a)\n",
    "print('='*len(a))\n",
    "print('\\n')\n",
    "print(combine)"
   ]
  },
  {
   "cell_type": "markdown",
   "metadata": {},
   "source": [
    "### Step 8.2: Train Best Model (see Step 7) on all features (Train+Test)"
   ]
  },
  {
   "cell_type": "code",
   "execution_count": 29,
   "metadata": {},
   "outputs": [
    {
     "name": "stdout",
     "output_type": "stream",
     "text": [
      "BernoulliNB(alpha=1.0, binarize=0.0, class_prior=None, fit_prior=True)\n"
     ]
    },
    {
     "name": "stderr",
     "output_type": "stream",
     "text": [
      "C:\\ProgramData\\Anaconda3\\lib\\site-packages\\sklearn\\utils\\validation.py:760: DataConversionWarning: A column-vector y was passed when a 1d array was expected. Please change the shape of y to (n_samples, ), for example using ravel().\n",
      "  y = column_or_1d(y, warn=True)\n"
     ]
    }
   ],
   "source": [
    "test_data_model=test_dataset_preprocessed.copy()\n",
    "inputs=['height','weight','hair','beard','scarf']\n",
    "output=['gender']\n",
    "bernoulli_nb.fit(test_data_model[inputs],test_data_model[output])\n",
    "print(bernoulli_nb)"
   ]
  },
  {
   "cell_type": "markdown",
   "metadata": {},
   "source": [
    "### Step 8.3: Save the trained model in Pickle file "
   ]
  },
  {
   "cell_type": "code",
   "execution_count": 30,
   "metadata": {},
   "outputs": [],
   "source": [
    "pickle.dump(bernoulli_nb,open('bernoulli_nb.pkl','wb'))"
   ]
  },
  {
   "cell_type": "markdown",
   "metadata": {},
   "source": [
    "# Step 9: Make prediction on unseen/new data"
   ]
  },
  {
   "cell_type": "markdown",
   "metadata": {},
   "source": [
    "### Step 9.1: Load the Trained Model (saved in Step 8.3) "
   ]
  },
  {
   "cell_type": "code",
   "execution_count": 31,
   "metadata": {},
   "outputs": [],
   "source": [
    "model=pickle.load(open('bernoulli_nb.pkl','rb'))"
   ]
  },
  {
   "cell_type": "markdown",
   "metadata": {},
   "source": [
    "### Step 9.2: Take Input from User"
   ]
  },
  {
   "cell_type": "code",
   "execution_count": null,
   "metadata": {},
   "outputs": [],
   "source": [
    "height=input(\"Please enter your height here (centimeter): \")\n",
    "weight=input(\"Please enter your Weight here(kg): \")\n",
    "hair=input(\"Please enter your Hair Length here (Bald/Long/Short/Medium): \")\n",
    "beard=input(\"Do you have beard? (Yes/No): \")\n",
    "Scarf=input(\"Do you wear Scarf? (Yes/No): \")\n"
   ]
  },
  {
   "cell_type": "markdown",
   "metadata": {},
   "source": [
    "### Step 9.3: Convert User Input into Feature Vector (Same as Feature Vector of Trained Model) "
   ]
  },
  {
   "cell_type": "code",
   "execution_count": null,
   "metadata": {},
   "outputs": [],
   "source": [
    "df=pd.DataFrame()\n",
    "tups=[(round(float(height),1),int(weight),str(hair),str(beard),str(Scarf))]\n",
    "#print(tups)\n",
    "df=pd.DataFrame(tups,columns=['height','weight','hair','beard','scarf'])\n",
    "a=\"User Input in Actual DataFrame form:\"\n",
    "print(a)\n",
    "print('='*len(a))\n",
    "print('\\n')\n",
    "print(df)"
   ]
  },
  {
   "cell_type": "code",
   "execution_count": null,
   "metadata": {},
   "outputs": [],
   "source": [
    "a=\"User Input in Actual DataFrame form:\"\n",
    "print(a)\n",
    "print('='*len(a))\n",
    "print('\\n')\n",
    "print(df)\n",
    "print('\\n')\n",
    "b=\"User input in Encoded DataFrame form:\"\n",
    "print(b)\n",
    "print('='*len(b))\n",
    "\n",
    "df['hair']=hair_encoded.transform(df['hair'])\n",
    "#a=beard_encoded.inverse_transform(df['beard'])\n",
    "#print(a)\n",
    "\n",
    "df['beard']=beard_encoded.transform(df['beard'])\n",
    "df['scarf']=scarf_encoder.transform(df['scarf'])\n",
    "print(df)"
   ]
  },
  {
   "cell_type": "markdown",
   "metadata": {},
   "source": [
    "### Step 9.4: Apply Trained Model on Feature Vector of Unseen Data and Output Prediction (Male/Female) to User"
   ]
  },
  {
   "cell_type": "code",
   "execution_count": null,
   "metadata": {},
   "outputs": [],
   "source": [
    "predictions=model.predict(df)\n",
    "result=gender_encoder.inverse_transform(predictions)\n",
    "from prettytable import PrettyTable\n",
    "table2 = PrettyTable()\n",
    "\n",
    "table2.title = 'Model Result'\n",
    "table2.field_names = ['** Prediction **']\n",
    "table2.add_row(result)\n",
    "print(table2)"
   ]
  },
  {
   "cell_type": "markdown",
   "metadata": {},
   "source": [
    "<center><h3> End of the Tutorial </h3></center>"
   ]
  }
 ],
 "metadata": {
  "kernelspec": {
   "display_name": "Python 3",
   "language": "python",
   "name": "python3"
  },
  "language_info": {
   "codemirror_mode": {
    "name": "ipython",
    "version": 3
   },
   "file_extension": ".py",
   "mimetype": "text/x-python",
   "name": "python",
   "nbconvert_exporter": "python",
   "pygments_lexer": "ipython3",
   "version": "3.7.6"
  }
 },
 "nbformat": 4,
 "nbformat_minor": 2
}
